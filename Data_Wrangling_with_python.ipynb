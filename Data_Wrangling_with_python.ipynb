{
  "nbformat": 4,
  "nbformat_minor": 0,
  "metadata": {
    "colab": {
      "name": "Data Wrangling with python.ipynb",
      "version": "0.3.2",
      "provenance": [],
      "collapsed_sections": []
    },
    "kernelspec": {
      "name": "python2",
      "display_name": "Python 2"
    }
  },
  "cells": [
    {
      "cell_type": "markdown",
      "metadata": {
        "id": "view-in-github",
        "colab_type": "text"
      },
      "source": [
        "[View in Colaboratory](https://colab.research.google.com/github/tolany/Study-Python/blob/master/Data_Wrangling_with_python.ipynb)"
      ]
    },
    {
      "metadata": {
        "id": "ptvc0ZXhyu2j",
        "colab_type": "text"
      },
      "cell_type": "markdown",
      "source": [
        " 전문 프로그래머가 아닌 일반인이 프로그래밍 공부를 하는 이유는, 프로그래머가 되기 위해서라기 보다는 현재 하고 있는 일의 좋은 도구로서 프로그래밍을 고려하고 있기 때문일 것이다. 이 경우, 우리는 2가지 측면을 고려해야한다. 첫 번째는 학습의 난이도가 적당한지이다. 일의 능률을 위한 학습의 난이도가 너무 높다면, 주객이 전도되는 상황을 초래할 수 있기 때문이다. 두 번째는 실용적인지이다. 애써 학습을 해서 익혔는데, 막상 일에서 거의 쓸 일이 없다면 허무한 일이 아닐 수 없다. \n",
        " \n",
        "  이런 측면에서 파이썬, 그리고 이 책은 꽤 유용할 것이라고 생각한다. 우선 파이썬이라는 언어는 상대적으로 학습하고 다루기 쉬운 언어 중 하나이기 때문에 첫 번째 사항을 만족한다. 그리고 관련 라이브러리가 충분히 나와있는 상황이기 때문에 실제 업무에서 사용하는 툴과 연동해서 사용하기가 상당히 편리하다. 그리고 이 책은, 파이썬을 활용해서 거대한 프로그램을 설계하는 것에 대해 다른 전문적인 기술서라기 보다는 파이썬을 활용해서 실제 업무에 필요한 데이터를 핸들링하는 방법에 대해서 이야기하고 있는 책이다. 특히 실제 사용과 동 떨어진 예가 아니라 구체적이고, 현실의 업무에서 사용할 법한 데이터를 프로젝트 방식으로 다루면서 내용을 전개하고 있기 때문에 전문 프로그래머를 지망하는 것이 아닌 사람들에게 도움이 될 법한 책이라고 생각한다.\n",
        " "
      ]
    },
    {
      "metadata": {
        "id": "bcBviwX_Erj3",
        "colab_type": "code",
        "colab": {}
      },
      "cell_type": "code",
      "source": [
        "!apt update\n",
        "!apt upgrade\n",
        "!pip install xlrd\n",
        "#!pip install slate\n",
        "!pip install dataset\n",
        "!pip install pdftables"
      ],
      "execution_count": 0,
      "outputs": []
    },
    {
      "metadata": {
        "id": "zRmIXUwqDbqw",
        "colab_type": "code",
        "colab": {}
      },
      "cell_type": "code",
      "source": [
        "from google.colab import files #Google Colab에 파일 업로드하기 \n",
        "\n",
        "import sys, pprint \n",
        "\n",
        "import csv #3장 CSV File 다루기\n",
        "import json #3장 JSON file 다루기 \n",
        "from xml.etree import ElementTree as ET #3장 XML File 다루기\n",
        "\n",
        "import xlrd #4장 excel file 다루기\n",
        "\n",
        "#import slate # 5장 pdf file 다루기 \n",
        "from pdftables import get_tables\n",
        "\n",
        "\n",
        "import dataset # 6장 데이터 수집 및 저장하기(데이터 베이스)\n",
        "\n",
        "from csv import DictReader # 7장 데이터 클리닝 기초 "
      ],
      "execution_count": 0,
      "outputs": []
    },
    {
      "metadata": {
        "id": "vm6GGRESz_5i",
        "colab_type": "text"
      },
      "cell_type": "markdown",
      "source": [
        "## 2장 파이썬의 기초\n"
      ]
    },
    {
      "metadata": {
        "id": "Cu7kAIQB2C85",
        "colab_type": "text"
      },
      "cell_type": "markdown",
      "source": [
        "### 2장 모두 종합하기. \n",
        "\n"
      ]
    },
    {
      "metadata": {
        "id": "4MPMGK8G4Kqi",
        "colab_type": "text"
      },
      "cell_type": "markdown",
      "source": [
        "* 문자열, 리스트, 딕셔너리를 생성하라.\n"
      ]
    },
    {
      "metadata": {
        "id": "mEEU5haM2Ez1",
        "colab_type": "code",
        "colab": {}
      },
      "cell_type": "code",
      "source": [
        "string = \"example\"\n",
        "list = [\"apple\", \"beer\", \"cat\"]\n",
        "diction = {}\n",
        "diction[\"dog\"] = 1\n",
        "diction[\"cat\"] = 2"
      ],
      "execution_count": 0,
      "outputs": []
    },
    {
      "metadata": {
        "id": "UnNLWra_3ScM",
        "colab_type": "text"
      },
      "cell_type": "markdown",
      "source": [
        "* dir 매소드를 이용하여 각 데이터 유형에 사용할 수 있는 메소드를 검색하라 \n"
      ]
    },
    {
      "metadata": {
        "id": "C0cwiBvt3xWE",
        "colab_type": "code",
        "colab": {}
      },
      "cell_type": "code",
      "source": [
        "dir(string)"
      ],
      "execution_count": 0,
      "outputs": []
    },
    {
      "metadata": {
        "id": "cegk21y33ESa",
        "colab_type": "code",
        "colab": {}
      },
      "cell_type": "code",
      "source": [
        "dir(list)"
      ],
      "execution_count": 0,
      "outputs": []
    },
    {
      "metadata": {
        "id": "NexCktTB3Gzu",
        "colab_type": "code",
        "colab": {}
      },
      "cell_type": "code",
      "source": [
        "dir(diction)"
      ],
      "execution_count": 0,
      "outputs": []
    },
    {
      "metadata": {
        "id": "jBX8oCdv7d_h",
        "colab_type": "text"
      },
      "cell_type": "markdown",
      "source": [
        "## 3장 기계가 읽을 수 있는 데이터 \n"
      ]
    },
    {
      "metadata": {
        "id": "7T5PVTag9LFB",
        "colab_type": "text"
      },
      "cell_type": "markdown",
      "source": [
        "### 3-1. CSV "
      ]
    },
    {
      "metadata": {
        "id": "C4IBKPM37hYn",
        "colab_type": "code",
        "colab": {}
      },
      "cell_type": "code",
      "source": [
        "uploaded = files.upload()\n",
        "csvfile = open('data-text.csv', 'rb')\n",
        "reader = csv.reader(csvfile)\n",
        "\n",
        "for row in reader:\n",
        "  print row "
      ],
      "execution_count": 0,
      "outputs": []
    },
    {
      "metadata": {
        "id": "LIfOOgxB9SCK",
        "colab_type": "text"
      },
      "cell_type": "markdown",
      "source": [
        "### 3-2 JSON\n"
      ]
    },
    {
      "metadata": {
        "id": "_6Rg9Tmo9Uot",
        "colab_type": "code",
        "colab": {}
      },
      "cell_type": "code",
      "source": [
        "uploaded = files.upload()\n"
      ],
      "execution_count": 0,
      "outputs": []
    },
    {
      "metadata": {
        "id": "DmQ1qC2U-Wx9",
        "colab_type": "code",
        "colab": {}
      },
      "cell_type": "code",
      "source": [
        "json_data =open('data-text.json').read()\n",
        "data = json.loads(json_data)\n",
        "\n",
        "for i in data:\n",
        "  print i"
      ],
      "execution_count": 0,
      "outputs": []
    },
    {
      "metadata": {
        "id": "ERfSzkwW_Qp6",
        "colab_type": "text"
      },
      "cell_type": "markdown",
      "source": [
        "### 3-3 XML"
      ]
    },
    {
      "metadata": {
        "id": "nPqP-A0rAKrW",
        "colab_type": "code",
        "colab": {}
      },
      "cell_type": "code",
      "source": [
        "uploaded = files.upload()"
      ],
      "execution_count": 0,
      "outputs": []
    },
    {
      "metadata": {
        "id": "jFlC-goRAkN4",
        "colab_type": "code",
        "colab": {}
      },
      "cell_type": "code",
      "source": [
        "tree = ET.parse('data-text.xml')\n",
        "root = tree.getroot()\n",
        "\n",
        "data = root.find('Data')\n",
        "\n",
        "all_data = []\n",
        "\n",
        "for observation in data:\n",
        "  record = {}\n",
        "  \n",
        "  for item in observation:\n",
        "    \n",
        "    lookup_key = item.attrib.keys()[0]\n",
        "    \n",
        "    if lookup_key == 'Numeric':\n",
        "      rec_key = 'NUMERIC'\n",
        "      rec_vale = item.attrib['Numeric']\n",
        "    else:\n",
        "      rec_key = item.attrib[lookup_key]\n",
        "      rec_value = item.attrib['Code']\n",
        "    \n",
        "    record[rec_key] = rec_value \n",
        "  \n",
        "  all_data.append(record)\n",
        "\n",
        "print all_data"
      ],
      "execution_count": 0,
      "outputs": []
    },
    {
      "metadata": {
        "id": "5MQNEbVmBoGy",
        "colab_type": "code",
        "colab": {}
      },
      "cell_type": "code",
      "source": [
        ""
      ],
      "execution_count": 0,
      "outputs": []
    },
    {
      "metadata": {
        "id": "7eAwzQMFDNK9",
        "colab_type": "text"
      },
      "cell_type": "markdown",
      "source": [
        "## 4. 엑셀 파일 다루기 "
      ]
    },
    {
      "metadata": {
        "id": "b-jhsyD4FP7t",
        "colab_type": "code",
        "colab": {}
      },
      "cell_type": "code",
      "source": [
        "uploaded = files.upload()"
      ],
      "execution_count": 0,
      "outputs": []
    },
    {
      "metadata": {
        "id": "JaQZijlDFfDI",
        "colab_type": "code",
        "colab": {}
      },
      "cell_type": "code",
      "source": [
        "book = xlrd.open_workbook('SOWC 2014 Stat Tables_Table 9.xlsx')\n",
        "\n",
        "sheet = book.sheet_by_name('Table 9 ')\n",
        "\n",
        "data = {}\n",
        "for i in xrange(14, sheet.nrows): # 14열부터 시작, 데이터를 보면 14열부터 국가 데이터가 시작 \n",
        "  row = sheet.row_values(i)\n",
        "  country = row[1]\n",
        "  \n",
        "  data[country] = {\n",
        "      'child_labor': {\n",
        "          'total':[row[4], row[5]],\n",
        "          'male':[row[6], row[7]],\n",
        "          'female':[row[8], row[9]],\n",
        "      },\n",
        "      'child_marriage':{\n",
        "          'married_by_15':[row[10], row[11]],\n",
        "          'married_by_18':[row[12], row[13]],\n",
        "      }\n",
        "  }\n",
        "  \n",
        "  if country == 'Zimbabwe':\n",
        "    break\n",
        "pprint.pprint(data)"
      ],
      "execution_count": 0,
      "outputs": []
    },
    {
      "metadata": {
        "id": "NoEj7weUJOnM",
        "colab_type": "text"
      },
      "cell_type": "markdown",
      "source": [
        "## 5장 PDF 다루기 "
      ]
    },
    {
      "metadata": {
        "id": "SYWuSxXJj187",
        "colab_type": "text"
      },
      "cell_type": "markdown",
      "source": [
        "### 5-1 PDF Parse "
      ]
    },
    {
      "metadata": {
        "id": "NWN_5XQ6j41h",
        "colab_type": "code",
        "colab": {}
      },
      "cell_type": "code",
      "source": [
        "pdf = 'EN-FINAL Table 9.pdf'\n",
        "\n",
        "with open(pdf) as f:\n",
        "    doc = slate.PDF(f)\n",
        "\n",
        "for page in doc[:2]:\n",
        "    print type(page)\n"
      ],
      "execution_count": 0,
      "outputs": []
    },
    {
      "metadata": {
        "id": "6qR98MGVkI8p",
        "colab_type": "text"
      },
      "cell_type": "markdown",
      "source": [
        "### 5-2 PDF Parse Text"
      ]
    },
    {
      "metadata": {
        "id": "iI_lnu0ukMv4",
        "colab_type": "code",
        "colab": {}
      },
      "cell_type": "code",
      "source": [
        "pdf_txt = 'en-final-table9.txt'\n",
        "openfile = open(pdf_txt, 'r')\n",
        "country_line = total_line = False\n",
        "previous_line = ''\n",
        "countries = []\n",
        "totals = []\n",
        "\n",
        "double_lined_countries = [\n",
        "    'Bolivia (Plurinational \\n',\n",
        "    'Democratic People\\xe2\\x80\\x99s \\n',\n",
        "    'Democratic Republic \\n',\n",
        "    'Lao People\\xe2\\x80\\x99s Democratic \\n',\n",
        "    'Micronesia (Federated \\n',\n",
        "    'Saint Vincent and \\n',\n",
        "    'The former Yugoslav \\n',\n",
        "    'United Republic \\n',\n",
        "    'Venezuela (Bolivarian \\n',\n",
        "]\n",
        "\n",
        "def turn_on_off(line, status, start, prev_line, end='\\n'):\n",
        " \n",
        "    if line.startswith(start):\n",
        "        status = True\n",
        "    elif status:\n",
        "        if line == end and prev_line != 'and areas':\n",
        "            status = False\n",
        "    return status\n",
        "\n",
        "\n",
        "def clean(line):\n",
        "\n",
        "    line = line.strip('\\n').strip()\n",
        "    line = line.replace('\\xe2\\x80\\x93', '-')\n",
        "    line = line.replace('\\xe2\\x80\\x99', '\\'')\n",
        "    return line\n",
        "\n",
        "\n",
        "for line in openfile:\n",
        "    if country_line:\n",
        "        if previous_line in double_lined_countries:\n",
        "            line = ' '.join([clean(previous_line), clean(line)])\n",
        "        countries.append(clean(line))\n",
        "\n",
        "    elif total_line:\n",
        "        if len(line.replace('\\n', '').strip()) > 0:\n",
        "            totals.append(clean(line))\n",
        "\n",
        "\n",
        "\n",
        "    country_line = turn_on_off(line, country_line, 'and areas', previous_line)\n",
        "    total_line = turn_on_off(line, total_line, 'total', previous_line)\n",
        "\n",
        "    previous_line = line\n",
        "\n",
        "data = dict(zip(countries, totals))\n",
        "pprint.pprint(data)\n"
      ],
      "execution_count": 0,
      "outputs": []
    },
    {
      "metadata": {
        "id": "vYy9UPmMj_EP",
        "colab_type": "text"
      },
      "cell_type": "markdown",
      "source": [
        "### 5-3 PDF Table Table "
      ]
    },
    {
      "metadata": {
        "id": "KFEvdSRqJRiV",
        "colab_type": "code",
        "colab": {}
      },
      "cell_type": "code",
      "source": [
        "headers = ['Country', 'Child Labor 2005-2012 (%) total',\n",
        "           'Child Labor 2005-2012 (%) male',\n",
        "           'Child Labor 2005-2012 (%) female',\n",
        "           'Child Marriage 2005-2012 (%) married by 15',\n",
        "           'Child Marriage 2005-2012 (%) married by 18',\n",
        "           'Birth registration 2005-2012 (%)',\n",
        "           'Female Genital mutilation 2002-2012 (prevalence), women',\n",
        "           'Female Genital mutilation 2002-2012 (prevalence), girls',\n",
        "           'Female Genital mutilation 2002-2012 (support)',\n",
        "           'Justification of wife beating 2005-2012 (%) male',\n",
        "           'Justification of wife beating 2005-2012 (%) female',\n",
        "           'Violent discipline 2005-2012 (%) total',\n",
        "           'Violent discipline 2005-2012 (%) male',\n",
        "           'Violent discipline 2005-2012 (%) female']\n",
        "\n",
        "all_tables = get_tables(open('EN-FINAL Table 9.pdf', 'rb'))\n",
        "\n",
        "first_name = False\n",
        "final_data = []\n",
        "\n",
        "for table in all_tables:\n",
        "    for row in table[5:]:\n",
        "        if row[0] == '' or row[0][0].isdigit():\n",
        "            continue\n",
        "        elif row[2] == '':\n",
        "            first_name = row[0]\n",
        "            continue\n",
        "        if first_name:\n",
        "            row[0] = u'{} {}'.format(first_name, row[0])\n",
        "            first_name = False\n",
        "\n",
        "        final_data.append(dict(zip(headers, row)))\n",
        "\n",
        "        if row[0] == 'Zimbabwe':\n",
        "                break\n",
        "\n",
        "pprint.pprint(final_data)\n"
      ],
      "execution_count": 0,
      "outputs": []
    },
    {
      "metadata": {
        "id": "LYGskqgEOuEP",
        "colab_type": "text"
      },
      "cell_type": "markdown",
      "source": [
        "## 6장 데이터 수집 및 저장하기 "
      ]
    },
    {
      "metadata": {
        "id": "VbjHFXW5TzlH",
        "colab_type": "text"
      },
      "cell_type": "markdown",
      "source": [
        "### 6-0 백엔드 설치 (SQLite)\n",
        "1. 홈페이지(http://sqlite.org/download.html)에서 SQLite 바이너리를 다운받는다.\n",
        "2. 다운받은 바이너리 파일을 파이썬 스크립트가 있는 폴더로 이동시킨다.\n",
        "3. \"sqlite3 data_wrangling.db\" 명령어를 입력한다. "
      ]
    },
    {
      "metadata": {
        "id": "jF_YwI_sRaij",
        "colab_type": "text"
      },
      "cell_type": "markdown",
      "source": [
        "### 6-1 데이터베이스 "
      ]
    },
    {
      "metadata": {
        "id": "LJiggQYtRe1V",
        "colab_type": "code",
        "colab": {}
      },
      "cell_type": "code",
      "source": [
        "db = dataset.connect('sqlite:///data_wrangling.db')\n",
        "\n",
        "my_data_source = {\n",
        "    'url':\n",
        "    'http://www.tsmplug.com/football/premier-league-player-salaries-club-by-club/',\n",
        "    'description':'Premier League Club Salaries',\n",
        "    'topic':'football',\n",
        "    'verified':False,\n",
        "}\n",
        "\n",
        "table = db['data_sources']\n",
        "table.insert(my_data_source)\n",
        "\n",
        "another_data_source = {\n",
        "    'url':\n",
        "    'http://www.premierleague.com/content/premierleague/en-gb/players/index.html',\n",
        "    'description': 'Premier League Stats',\n",
        "    'topic':'football',\n",
        "    'verified':True,\n",
        "}\n",
        "\n",
        "table.insert(another_data_source)\n",
        "sources = db['data_sources'].all()\n",
        "print sources "
      ],
      "execution_count": 0,
      "outputs": []
    },
    {
      "metadata": {
        "id": "hUUgz8ShVUzZ",
        "colab_type": "text"
      },
      "cell_type": "markdown",
      "source": [
        "## 7장 데이터 클리닝 기초 "
      ]
    },
    {
      "metadata": {
        "id": "HcNaTe2PVci-",
        "colab_type": "code",
        "colab": {}
      },
      "cell_type": "code",
      "source": [
        "uploaded = files.upload()"
      ],
      "execution_count": 0,
      "outputs": []
    },
    {
      "metadata": {
        "id": "pKbAI7ySVXf8",
        "colab_type": "text"
      },
      "cell_type": "markdown",
      "source": [
        "### 7-1 데이터 클리닝을 위한 값 찾기 "
      ]
    },
    {
      "metadata": {
        "id": "Q1tGqJdLkqfd",
        "colab_type": "code",
        "colab": {}
      },
      "cell_type": "code",
      "source": [
        "from csv import reader\n",
        "\n",
        "data_rdr = reader(open('mn.csv', 'rb'))\n",
        "header_rdr = reader(open('mn_headers.csv', 'rb'))\n",
        "\n",
        "data_rows = [d for d in data_rdr]\n",
        "header_rows = [h for h in header_rdr]\n",
        "\n",
        "print len(data_rows[0])\n",
        "print len(header_rows)\n",
        "\n",
        "\n",
        "bad_rows = []\n",
        "for h in header_rows:\n",
        "    if h[0] not in data_rows[0]:\n",
        "        bad_rows.append(h)\n",
        "\n",
        "for h in bad_rows:\n",
        "    header_rows.remove(h)\n",
        "\n",
        "print len(header_rows)\n",
        "\n",
        "all_short_headers = [h[0] for h in header_rows]\n",
        "for header in data_rows[0]:\n",
        "    if header not in all_short_headers:\n",
        "        print 'mismatch!', header\n"
      ],
      "execution_count": 0,
      "outputs": []
    },
    {
      "metadata": {
        "id": "rnilXtjOmtM-",
        "colab_type": "code",
        "colab": {}
      },
      "cell_type": "code",
      "source": [
        ""
      ],
      "execution_count": 0,
      "outputs": []
    }
  ]
}