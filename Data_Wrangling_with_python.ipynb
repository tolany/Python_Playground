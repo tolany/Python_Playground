{
  "nbformat": 4,
  "nbformat_minor": 0,
  "metadata": {
    "colab": {
      "name": "Data Wrangling with python.ipynb",
      "version": "0.3.2",
      "provenance": [],
      "collapsed_sections": []
    },
    "kernelspec": {
      "name": "python2",
      "display_name": "Python 2"
    }
  },
  "cells": [
    {
      "cell_type": "markdown",
      "metadata": {
        "id": "view-in-github",
        "colab_type": "text"
      },
      "source": [
        "[View in Colaboratory](https://colab.research.google.com/github/tolany/Study-Python/blob/master/Data_Wrangling_with_python.ipynb)"
      ]
    },
    {
      "metadata": {
        "id": "ptvc0ZXhyu2j",
        "colab_type": "text"
      },
      "cell_type": "markdown",
      "source": [
        " 전문 프로그래머가 아닌 일반인이 프로그래밍 공부를 하는 이유는, 프로그래머가 되기 위해서라기 보다는 현재 하고 있는 일의 좋은 도구로서 프로그래밍을 고려하고 있기 때문일 것이다. 이 경우, 우리는 2가지 측면을 고려해야한다. 첫 번째는 학습의 난이도가 적당한지이다. 일의 능률을 위한 학습의 난이도가 너무 높다면, 주객이 전도되는 상황을 초래할 수 있기 때문이다. 두 번째는 실용적인지이다. 애써 학습을 해서 익혔는데, 막상 일에서 거의 쓸 일이 없다면 허무한 일이 아닐 수 없다. \n",
        " \n",
        "  이런 측면에서 파이썬, 그리고 이 책은 꽤 유용할 것이라고 생각한다. 우선 파이썬이라는 언어는 상대적으로 학습하고 다루기 쉬운 언어 중 하나이기 때문에 첫 번째 사항을 만족한다. 그리고 관련 라이브러리가 충분히 나와있는 상황이기 때문에 실제 업무에서 사용하는 툴과 연동해서 사용하기가 상당히 편리하다. 그리고 이 책은, 파이썬을 활용해서 거대한 프로그램을 설계하는 것에 대해 다른 전문적인 기술서라기 보다는 파이썬을 활용해서 실제 업무에 필요한 데이터를 핸들링하는 방법에 대해서 이야기하고 있는 책이다. 특히 실제 사용과 동 떨어진 예가 아니라 구체적이고, 현실의 업무에서 사용할 법한 데이터를 프로젝트 방식으로 다루면서 내용을 전개하고 있기 때문에 전문 프로그래머를 지망하는 것이 아닌 사람들에게 도움이 될 법한 책이라고 생각한다.\n",
        " "
      ]
    },
    {
      "metadata": {
        "id": "vm6GGRESz_5i",
        "colab_type": "text"
      },
      "cell_type": "markdown",
      "source": [
        "## 2장 파이썬의 기초\n"
      ]
    },
    {
      "metadata": {
        "id": "fTGEXYtBz55R",
        "colab_type": "code",
        "colab": {}
      },
      "cell_type": "code",
      "source": [
        "import sys, pprint \n",
        "import csv \n",
        "from google.colab import files\n",
        "uploaded = files.upload()\n"
      ],
      "execution_count": 0,
      "outputs": []
    },
    {
      "metadata": {
        "id": "Cu7kAIQB2C85",
        "colab_type": "text"
      },
      "cell_type": "markdown",
      "source": [
        "### 2장 모두 종합하기. \n",
        "\n"
      ]
    },
    {
      "metadata": {
        "id": "4MPMGK8G4Kqi",
        "colab_type": "text"
      },
      "cell_type": "markdown",
      "source": [
        "* 문자열, 리스트, 딕셔너리를 생성하라.\n"
      ]
    },
    {
      "metadata": {
        "id": "mEEU5haM2Ez1",
        "colab_type": "code",
        "colab": {}
      },
      "cell_type": "code",
      "source": [
        "string = \"example\"\n",
        "list = [\"apple\", \"beer\", \"cat\"]\n",
        "diction = {}\n",
        "diction[\"dog\"] = 1\n",
        "diction[\"cat\"] = 2"
      ],
      "execution_count": 0,
      "outputs": []
    },
    {
      "metadata": {
        "id": "UnNLWra_3ScM",
        "colab_type": "text"
      },
      "cell_type": "markdown",
      "source": [
        "* dir 매소드를 이용하여 각 데이터 유형에 사용할 수 있는 메소드를 검색하라 \n"
      ]
    },
    {
      "metadata": {
        "id": "C0cwiBvt3xWE",
        "colab_type": "code",
        "colab": {}
      },
      "cell_type": "code",
      "source": [
        "dir(string)"
      ],
      "execution_count": 0,
      "outputs": []
    },
    {
      "metadata": {
        "id": "cegk21y33ESa",
        "colab_type": "code",
        "colab": {}
      },
      "cell_type": "code",
      "source": [
        "dir(list)"
      ],
      "execution_count": 0,
      "outputs": []
    },
    {
      "metadata": {
        "id": "NexCktTB3Gzu",
        "colab_type": "code",
        "colab": {}
      },
      "cell_type": "code",
      "source": [
        "dir(diction)"
      ],
      "execution_count": 0,
      "outputs": []
    },
    {
      "metadata": {
        "id": "jBX8oCdv7d_h",
        "colab_type": "text"
      },
      "cell_type": "markdown",
      "source": [
        "## 3장 기계가 읽을 수 있는 데이터 \n"
      ]
    },
    {
      "metadata": {
        "id": "C4IBKPM37hYn",
        "colab_type": "code",
        "colab": {}
      },
      "cell_type": "code",
      "source": [
        "csvfile = open('data-text.csv', 'rb')\n",
        "reader = csv.reader(csvfile)\n",
        "\n",
        "for row in reader:\n",
        "  print row "
      ],
      "execution_count": 0,
      "outputs": []
    }
  ]
}